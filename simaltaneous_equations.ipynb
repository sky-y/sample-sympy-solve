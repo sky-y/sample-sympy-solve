{
 "cells": [
  {
   "cell_type": "markdown",
   "metadata": {},
   "source": [
    "# 連立方程式のプログラムによる解法\n",
    "\n",
    "## 例題\n",
    "\n",
    "1個120円のりんごと1個50円のみかんを合わせて8個買ったら、代金の合計が610円だった。りんごとみかんはそれぞれ何個買ったのか。\n",
    "\n",
    "## 方程式を立てる\n",
    "\n",
    "$$\n",
    "\\begin{cases}\n",
    "x + y = 8 & \\\\\n",
    "120x + 50y = 610 &\n",
    "\\end{cases}\n",
    "$$\n",
    "\n",
    "ただし、あとで使うプログラムでは右辺を0にする必要があるので、移項しておく。\n",
    "\n",
    "$$\n",
    "\\begin{cases}\n",
    "x + y - 8 = 0 & \\mathrm{(eq1)} \\\\\n",
    "120x + 50y - 610 = 0 & \\mathrm{(eq2)}\n",
    "\\end{cases}\n",
    "$$\n",
    "\n",
    "## 連立方程式を解くプログラム\n",
    "\n",
    "- Pythonというプログラミング言語のsympyパッケージを使うと、直感的な形の数式を自動で解いてくれる。\n",
    "- 実際に動かすために、anacondaという環境を使った。"
   ]
  },
  {
   "cell_type": "code",
   "execution_count": 10,
   "metadata": {
    "collapsed": false
   },
   "outputs": [
    {
     "name": "stdout",
     "output_type": "stream",
     "text": [
      "答え: りんご 3 個、みかん 5 個\n"
     ]
    }
   ],
   "source": [
    "from sympy import *\n",
    "\n",
    "x, y = symbols('x y')\n",
    "\n",
    "eq1 = x + y - 8\n",
    "eq2 = 120 * x + 50 * y - 610\n",
    "\n",
    "solution = solve([eq1, eq2], [x, y])\n",
    "print('答え: りんご', solution[x], '個、みかん', solution[y], '個')"
   ]
  },
  {
   "cell_type": "markdown",
   "metadata": {},
   "source": [
    "## 答え\n",
    "\n",
    "りんご3個、みかん5個。\n",
    "\n",
    "## 参考文献\n",
    "\n",
    "- [Pythonを使って一瞬で連立方程式を解く - Qiita](http://qiita.com/ryosy383/items/e5e2ecb5976f98040d21)\n",
    "- [データサイエンティストを目指す人のpython環境構築 2016 - Qiita](http://qiita.com/y__sama/items/5b62d31cb7e6ed50f02c)"
   ]
  }
 ],
 "metadata": {
  "anaconda-cloud": {},
  "kernelspec": {
   "display_name": "Python [Root]",
   "language": "python",
   "name": "Python [Root]"
  },
  "language_info": {
   "codemirror_mode": {
    "name": "ipython",
    "version": 3
   },
   "file_extension": ".py",
   "mimetype": "text/x-python",
   "name": "python",
   "nbconvert_exporter": "python",
   "pygments_lexer": "ipython3",
   "version": "3.5.2"
  }
 },
 "nbformat": 4,
 "nbformat_minor": 0
}
